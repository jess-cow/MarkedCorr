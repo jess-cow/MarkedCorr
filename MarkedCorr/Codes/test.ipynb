{
 "cells": [
  {
   "cell_type": "code",
   "execution_count": 1,
   "id": "bb56fa11",
   "metadata": {},
   "outputs": [
    {
     "name": "stdout",
     "output_type": "stream",
     "text": [
      "Current working directory: /Users/jesscowell/GitHub/MarkedCorr/MarkedCorr/Codes\n",
      "Files in current directory: ['Multiple_Mark_Dot_Ranking.py', 'varying_initial_optimizer.py', 'COLA_COVARIANCE.py', 'reading_sims.py', 'fisher_debugging.py', 'Comparing_Covariances_WhiteMarks.ipynb', 'theoretical_test_COLA.py', 'theoretical_cov.py', 'grid_angles.py', 'COLA_cov.py', 'Mark_tools.py', '__pycache__', 'Mark_Class.py', 'test.ipynb', 'Comparing_Covariances_ManyMarks.ipynb', 'Pk_tools.py']\n",
      "Python path: ['/opt/anaconda3/envs/nbodykit-env/lib/python313.zip', '/opt/anaconda3/envs/nbodykit-env/lib/python3.13', '/opt/anaconda3/envs/nbodykit-env/lib/python3.13/lib-dynload', '', '/opt/anaconda3/envs/nbodykit-env/lib/python3.13/site-packages']\n"
     ]
    }
   ],
   "source": [
    "from Mark_Class import Mark\n",
    "import os\n",
    "from os import sys\n",
    "print(\"Current working directory:\", os.getcwd())\n",
    "print(\"Files in current directory:\", os.listdir('.'))\n",
    "print(\"Python path:\", os.sys.path if 'sys' in dir() else \"sys not imported\")\n"
   ]
  },
  {
   "cell_type": "code",
   "execution_count": 2,
   "id": "b719d3e3",
   "metadata": {},
   "outputs": [
    {
     "name": "stdout",
     "output_type": "stream",
     "text": [
      "number cut 0\n",
      "badw [False False False False False False False False False False False False\n",
      " False False False False False False False False False False False False\n",
      " False False False False False False False False False False]\n",
      "max condition number 13274.00716913266\n",
      "deriv_8 [21966.0770912  17754.52120405 16842.35012968 14485.5572425\n",
      " 14046.747264   11110.29486948  9891.64483546  8144.24517722\n",
      "  7600.53552006  7188.77874632  6511.13520577  5914.39800316\n",
      "  5579.57099523  5102.22689631  4741.23506062  4525.37597189\n",
      "  3965.77082812  3772.83890898  3783.24382346  3390.07057685\n",
      "  3046.13252038  3008.53932683  2836.18157107  2730.9849887\n",
      "  2552.23627214  2526.60438931  2337.69383558  2260.64093882\n",
      "  2179.8375976   2068.1706839   1974.20509688  1914.51538798\n",
      "  1819.90898148  1735.69592445]\n",
      "deriv_Om [-35165.51265471 -25805.15576453 -24110.37732537 -20907.31491983\n",
      " -18328.44881867 -12060.83575469  -7997.57862561  -5108.22868726\n",
      "  -4536.43459167  -5059.7552506   -5271.27468457  -4740.71426179\n",
      "  -3752.70783007  -2321.15167443  -1772.8111973   -1589.20649021\n",
      "  -1427.90293694  -1832.88166397  -1939.39068656  -1699.59956462\n",
      "  -1158.48449398   -852.8164413    -751.3229625    -774.80696229\n",
      "   -698.16349358   -802.89322324   -787.19353234   -647.70761559\n",
      "   -621.86603013   -507.10004005   -448.64004079   -378.67634962\n",
      "   -439.05286655   -371.98651351]\n",
      "fid Pk [9033.52025034 7160.10736692 6871.9772382  5856.77638105 5703.77642066\n",
      " 4517.15736208 4025.2130868  3262.24306466 3061.2155754  2878.16771981\n",
      " 2584.25075876 2356.32719188 2210.27287693 2027.77052694 1832.20150137\n",
      " 1722.20027606 1527.80882463 1405.71584079 1412.46406928 1256.61000733\n",
      " 1144.3064638  1133.53738864 1044.30404387  975.09603105  920.54242211\n",
      "  890.77684835  828.2257245   808.07736733  762.41292401  725.15918913\n",
      "  680.45296215  661.1899164   614.32232132  593.93630746]\n"
     ]
    }
   ],
   "source": [
    "mark_class = Mark([0,0,0], directory='../Data/Sim_arrays/')"
   ]
  },
  {
   "cell_type": "code",
   "execution_count": 6,
   "id": "d31b0f92",
   "metadata": {},
   "outputs": [
    {
     "ename": "AttributeError",
     "evalue": "'Mark' object has no attribute 'fft_fields'",
     "output_type": "error",
     "traceback": [
      "\u001b[31m---------------------------------------------------------------------------\u001b[39m",
      "\u001b[31mAttributeError\u001b[39m                            Traceback (most recent call last)",
      "\u001b[36mCell\u001b[39m\u001b[36m \u001b[39m\u001b[32mIn[6]\u001b[39m\u001b[32m, line 4\u001b[39m\n\u001b[32m      1\u001b[39m mark_class.Pk_fisher\n\u001b[32m      3\u001b[39m mark_class.load_sims()\n\u001b[32m----> \u001b[39m\u001b[32m4\u001b[39m \u001b[43mmark_class\u001b[49m\u001b[43m.\u001b[49m\u001b[43mget_fom\u001b[49m\u001b[43m(\u001b[49m\u001b[43m)\u001b[49m\n",
      "\u001b[36mFile \u001b[39m\u001b[32m~/GitHub/MarkedCorr/MarkedCorr/Codes/Mark_Class.py:385\u001b[39m, in \u001b[36mMark.get_fom\u001b[39m\u001b[34m(self, fom_type, mark_names, optimiser)\u001b[39m\n\u001b[32m    383\u001b[39m \u001b[38;5;250m\u001b[39m\u001b[33;03m\"\"\"Get figure of merit from mark function.\"\"\"\u001b[39;00m\n\u001b[32m    384\u001b[39m \u001b[38;5;66;03m# Calculate Pks\u001b[39;00m\n\u001b[32m--> \u001b[39m\u001b[32m385\u001b[39m Pks = \u001b[38;5;28;43mself\u001b[39;49m\u001b[43m.\u001b[49m\u001b[43mget_all_Pks\u001b[49m\u001b[43m(\u001b[49m\u001b[43mmark_names\u001b[49m\u001b[43m)\u001b[49m\n\u001b[32m    386\u001b[39m \u001b[38;5;66;03m# Calculate derivatives\u001b[39;00m\n\u001b[32m    387\u001b[39m derivs = \u001b[38;5;28mself\u001b[39m.get_derivs(Pks)\n",
      "\u001b[36mFile \u001b[39m\u001b[32m~/GitHub/MarkedCorr/MarkedCorr/Codes/Mark_Class.py:343\u001b[39m, in \u001b[36mMark.get_all_Pks\u001b[39m\u001b[34m(self, mark_names)\u001b[39m\n\u001b[32m    340\u001b[39m field1_key = \u001b[33mf\u001b[39m\u001b[33m'\u001b[39m\u001b[33mfft_\u001b[39m\u001b[38;5;132;01m{\u001b[39;00mf1\u001b[38;5;132;01m}\u001b[39;00m\u001b[33m_\u001b[39m\u001b[38;5;132;01m{\u001b[39;00mf3\u001b[38;5;132;01m}\u001b[39;00m\u001b[33m'\u001b[39m\n\u001b[32m    341\u001b[39m field2_key = \u001b[33mf\u001b[39m\u001b[33m'\u001b[39m\u001b[33mfft_\u001b[39m\u001b[38;5;132;01m{\u001b[39;00mf2\u001b[38;5;132;01m}\u001b[39;00m\u001b[33m_\u001b[39m\u001b[38;5;132;01m{\u001b[39;00mf3\u001b[38;5;132;01m}\u001b[39;00m\u001b[33m'\u001b[39m\n\u001b[32m--> \u001b[39m\u001b[32m343\u001b[39m _, _, pk = get_Pk(\u001b[38;5;28;43mself\u001b[39;49m\u001b[43m.\u001b[49m\u001b[43mfft_fields\u001b[49m[field1_key], \u001b[38;5;28mself\u001b[39m.ktot, second=\u001b[38;5;28mself\u001b[39m.fft_fields[field2_key])\n\u001b[32m    344\u001b[39m \u001b[38;5;66;03m# Scale cuts\u001b[39;00m\n\u001b[32m    345\u001b[39m Pks[\u001b[33mf\u001b[39m\u001b[33m'\u001b[39m\u001b[33mPk_\u001b[39m\u001b[38;5;132;01m{\u001b[39;00mf1\u001b[38;5;132;01m}\u001b[39;00m\u001b[38;5;132;01m{\u001b[39;00mf2\u001b[38;5;132;01m}\u001b[39;00m\u001b[33m_\u001b[39m\u001b[38;5;132;01m{\u001b[39;00mf3\u001b[38;5;132;01m}\u001b[39;00m\u001b[33m'\u001b[39m] = pk[\u001b[38;5;28mself\u001b[39m.good_k][\u001b[32m3\u001b[39m:]\n",
      "\u001b[31mAttributeError\u001b[39m: 'Mark' object has no attribute 'fft_fields'"
     ]
    }
   ],
   "source": [
    "mark_class.Pk_fisher\n",
    "\n",
    "mark_class.load_sims()\n",
    "mark_class.get_fom()"
   ]
  },
  {
   "cell_type": "code",
   "execution_count": null,
   "id": "6f0f3ac8",
   "metadata": {},
   "outputs": [],
   "source": []
  },
  {
   "cell_type": "code",
   "execution_count": null,
   "id": "a472e1a3",
   "metadata": {},
   "outputs": [],
   "source": []
  }
 ],
 "metadata": {
  "kernelspec": {
   "display_name": "nbodykit-env",
   "language": "python",
   "name": "python3"
  },
  "language_info": {
   "codemirror_mode": {
    "name": "ipython",
    "version": 3
   },
   "file_extension": ".py",
   "mimetype": "text/x-python",
   "name": "python",
   "nbconvert_exporter": "python",
   "pygments_lexer": "ipython3",
   "version": "3.13.5"
  }
 },
 "nbformat": 4,
 "nbformat_minor": 5
}
